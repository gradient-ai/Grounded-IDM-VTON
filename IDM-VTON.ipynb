{
 "cells": [
  {
   "cell_type": "markdown",
   "metadata": {},
   "source": [
    "## Setup\n",
    "\n",
    "Each of the first three lines must be pasted in one at a time to the terminal. Afterwards, you can paste the following block to complete the installation. \n",
    "\n",
    "Paste each line of this block:\n",
    "\n",
    "```\n",
    "export AM_I_DOCKER=False\n",
    "```\n",
    "```\n",
    "export BUILD_WITH_CUDA=True\n",
    "```\n",
    "```\n",
    "export CUDA_HOME=/usr/local/cuda-11.6/\n",
    "```\n",
    "\n",
    "\n",
    "Paste the following block in all together:\n",
    "```\n",
    "pip uninstall -y jax jaxlib tensorflow\n",
    "git clone https://github.com/IDEA-Research/Grounded-Segment-Anything\n",
    "cp -r Grounded-Segment-Anything/segment_anything ./\n",
    "cp -r Grounded-Segment-Anything/GroundingDino ./\n",
    "python -m pip install -e segment_anything\n",
    "pip install --no-build-isolation -e GroundingDINO\n",
    "pip install -r requirements.txt \n",
    "```"
   ]
  },
  {
   "cell_type": "markdown",
   "metadata": {},
   "source": [
    "## Run the application\n"
   ]
  },
  {
   "cell_type": "code",
   "execution_count": null,
   "metadata": {},
   "outputs": [],
   "source": [
    "!python app.py"
   ]
  }
 ],
 "metadata": {
  "language_info": {
   "name": "python"
  }
 },
 "nbformat": 4,
 "nbformat_minor": 2
}
